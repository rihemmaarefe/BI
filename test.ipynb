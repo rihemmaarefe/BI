{
  "nbformat": 4,
  "nbformat_minor": 0,
  "metadata": {
    "colab": {
      "provenance": [],
      "authorship_tag": "ABX9TyMe5A469nfU6I/yCSPkWkab",
      "include_colab_link": true
    },
    "kernelspec": {
      "name": "python3",
      "display_name": "Python 3"
    },
    "language_info": {
      "name": "python"
    }
  },
  "cells": [
    {
      "cell_type": "markdown",
      "metadata": {
        "id": "view-in-github",
        "colab_type": "text"
      },
      "source": [
        "<a href=\"https://colab.research.google.com/github/rihemmaarefe/BI/blob/main/test.ipynb\" target=\"_parent\"><img src=\"https://colab.research.google.com/assets/colab-badge.svg\" alt=\"Open In Colab\"/></a>"
      ]
    },
    {
      "cell_type": "code",
      "execution_count": 170,
      "metadata": {
        "id": "MhiMAq6CNUTy"
      },
      "outputs": [],
      "source": [
        "# !pip install streamlit"
      ]
    },
    {
      "cell_type": "code",
      "source": [
        "# !npm install localtunnel"
      ],
      "metadata": {
        "id": "vnYF26q4P9sU"
      },
      "execution_count": 171,
      "outputs": []
    },
    {
      "cell_type": "code",
      "source": [
        "# !pip install river"
      ],
      "metadata": {
        "id": "Gb-vN4VTSP90"
      },
      "execution_count": 172,
      "outputs": []
    },
    {
      "cell_type": "code",
      "source": [
        "%%writefile app.py\n",
        "import streamlit as st\n",
        "import numpy as np\n",
        "import pandas as pd\n",
        "import seaborn as sns\n",
        "import altair as alt\n",
        "import matplotlib\n",
        "import matplotlib.pyplot as plt\n",
        "matplotlib.use('Agg')\n",
        "from datetime import datetime\n",
        "\n",
        "# ML pkgs\n",
        "from river.naive_bayes import MultinomialNB\n",
        "from river.feature_extraction import BagOfWords,TFIDF\n",
        "from river.compose import Pipeline \n",
        "\n",
        "\n",
        "# Training data\n",
        "data = [\n",
        "    (\"i hate you\",\"subjective\"),\n",
        "    (\"The pizza at that restaurant is delicious\",\"subjective\"),\n",
        "    (\"That painting is beautiful\",\"subjective\"),\n",
        "    (\"She is the best boss I've ever had\",\"subjective\"),\n",
        "    (\"Summer is the best season of the year\",\"subjective\"),\n",
        "    (\"That book is really interesting\",\"subjective\"),\n",
        "    (\"I feel happy when I'm with my friends\",\"subjective\"),\n",
        "    (\"we are cooler\",\"subjective\"),\n",
        "    (\"The sky is blue\",\"objective\"),\n",
        "    (\"The temperature outside is 72 degrees Fahrenheit\",\"objective\"),\n",
        "    (\"The Earth revolves around the Sun\",\"objective\"),\n",
        "    (\"Oxygen is essential for human survival\",\"objective\"),\n",
        "    (\"The capital of France is Paris\",\"objective\"),\n",
        "    (\"Water is a transparent, odorless, tasteless liquid that is essential for most forms of life on Earth. It is composed of two hydrogen atoms and one oxygen atom and has the chemical formula H2\",\"objective\"),\n",
        "    (\"The average lifespan of a domestic cat is 12 to 15 years\",\"objective\"),\n",
        "    (\"The Mona Lisa is a painting by Leonardo da Vinci\",\"objective\"),\n",
        "    (\"A chair is a piece of furniture designed for sitting on, typically consisting of a seat, backrest, and sometimes armrests, supported by four legs or a single pedestal\",\"objective\"),\n",
        "    (\"Jupiter is the largest planet in our solar system.\",\"objective\"),\n",
        "    (\"It refers to a specific type of toy, typically a small, often anatomically correct figurine or representation of a human or animal. The meaning of the word is not influenced by personal opinions, feelings, or biases, which makes it an objective term\",\"objective\")\n",
        "]\n",
        "\n",
        "#model\n",
        "model = Pipeline(('vectorizer',BagOfWords(lowercase = True)),('nv',MultinomialNB()))\n",
        "for x,y in data:\n",
        "  model = model.learn_one(x,y)\n",
        "\n",
        "\n",
        "\n",
        "menu = [\"Home\",\"Manage\"]\n",
        "\n",
        "choice = st.sidebar.selectbox(\"Menu\",menu)\n",
        "if choice == \"Home\":\n",
        "  st.subheader(\"Home\")\n",
        "  with st.form(key='mlform'):\n",
        "    col1,col2 = st.columns([2,1])\n",
        "    with col1:\n",
        "      message = st.text_area(\"Message\")\n",
        "      submit_message = st.form_submit_button(label = 'Predict')\n",
        "    with col2:\n",
        "      st.write(\"Predict Text as Objective or Subjective\")  \n",
        "  if submit_message:\n",
        "    pred = model.predict_one(message)\n",
        "    predict_proba = model.predict_proba_one(message)\n",
        "    probability = max(predict_proba.values())\n",
        "    st.success(\"Data Submitted\")\n",
        "\n",
        "    result_col1,ressult_col2 = st.columns(2)\n",
        "    with result_col1:\n",
        "      st.info(\"Original Text\")\n",
        "      st.write(message)\n",
        "\n",
        "      st.success(\"Prediction\")\n",
        "      st.write(pred)\n",
        "\n",
        "else:\n",
        "  st.subheader(\"Manage and Monitor Results\")\n"
      ],
      "metadata": {
        "colab": {
          "base_uri": "https://localhost:8080/"
        },
        "id": "SKT3JAhpORD8",
        "outputId": "51831017-a695-4569-fbad-5bae684f7d4b"
      },
      "execution_count": 173,
      "outputs": [
        {
          "output_type": "stream",
          "name": "stdout",
          "text": [
            "Overwriting app.py\n"
          ]
        }
      ]
    },
    {
      "cell_type": "code",
      "source": [
        "!ls"
      ],
      "metadata": {
        "colab": {
          "base_uri": "https://localhost:8080/"
        },
        "id": "86j0AKMUOUiS",
        "outputId": "dc479d4b-6149-4424-bb9f-001e92df1f12"
      },
      "execution_count": 174,
      "outputs": [
        {
          "output_type": "stream",
          "name": "stdout",
          "text": [
            "app.py\t  ngrok\t\t\t\tnode_modules\t   sample_data\n",
            "logs.txt  ngrok-stable-linux-amd64.zip\tpackage-lock.json\n"
          ]
        }
      ]
    },
    {
      "cell_type": "code",
      "source": [
        "# !pip install pyngrok"
      ],
      "metadata": {
        "id": "w2LrBZ8oOjrj"
      },
      "execution_count": 175,
      "outputs": []
    },
    {
      "cell_type": "code",
      "source": [
        "!streamlit run /content/app.py &>/content/logs.txt &"
      ],
      "metadata": {
        "id": "TWGIfJqjOW4N"
      },
      "execution_count": 176,
      "outputs": []
    },
    {
      "cell_type": "code",
      "source": [
        "!npx localtunnel --port 8501"
      ],
      "metadata": {
        "colab": {
          "base_uri": "https://localhost:8080/"
        },
        "id": "d1Ceyg_xPCg0",
        "outputId": "866814c4-c54f-4179-8440-f42521e92407"
      },
      "execution_count": null,
      "outputs": [
        {
          "metadata": {
            "tags": null
          },
          "name": "stdout",
          "output_type": "stream",
          "text": [
            "\u001b[K\u001b[?25hnpx: installed 22 in 2.036s\n",
            "your url is: https://clean-brooms-try-35-245-2-249.loca.lt\n"
          ]
        }
      ]
    },
    {
      "cell_type": "code",
      "source": [],
      "metadata": {
        "id": "8J47TirDPgO6"
      },
      "execution_count": null,
      "outputs": []
    }
  ]
}